{
  "nbformat": 4,
  "nbformat_minor": 0,
  "metadata": {
    "colab": {
      "provenance": []
    },
    "kernelspec": {
      "name": "python3",
      "display_name": "Python 3"
    },
    "language_info": {
      "name": "python"
    }
  },
  "cells": [
    {
      "cell_type": "markdown",
      "source": [
        "<center>\n",
        "\n",
        "## Erro de português\n",
        ">Quando o português chegou \\\\\n",
        ">debaixo duma bruta chuva \\\\\n",
        ">vestiu o índio \\\\\n",
        ">que pena! \\\\\n",
        ">fosse uma manhã de sol \\\\\n",
        ">o índio tinha despido o português \\\\\n",
        "\n",
        "</center>\n",
        "\n",
        "<right>Oswald de Andrade, 1927</right>\n",
        "\n",
        "\\\\\n",
        "\n",
        "---\n",
        "\n",
        "\\\\\n",
        "\n",
        "Aquaplanagem, menor visibilidade, risco de derrapamento: condições climáticas advsersas podem impactar a maneira como pessoas dirigem e a segurança na via. Além do senso comum, o manual de direção defensiva recomenda uma maior distância de seguimento e menor velocidade em condições de tempo adversas. No célebre poema \"Erro de Português\" apresentado acima, Oswald de Andrade (1890-1954) entreteve: _\"fosse uma manhã de sol...\"_\n",
        "\n",
        "\\\\\n",
        "\n",
        "Com este estudo, pretendo uma resposta tentativa a esse questionamento: **Em um mundo contrafactual, onde os motoristas não estão sujeitos às intempéries, observaríamos a mesma taxa de fatalidade em acidentes nas estradas brasileiras?**\n",
        "\n",
        "\\\\\n",
        "\n",
        "Para responder a essa questão eu vou utilizar o *paradigma de desfechos potenciais* (potential outcomes), também conhecido por *modelo causal de Neyman-Rubin*, aplicados a dados de acidentes de trânsito em território nacional, coletados entre 2007–2021 e compilados pela Polícia Rodoviária Federal (PRF), gentilmente [disponibilizados como um data set público no Kaggle](https://www.kaggle.com/datasets/mcamera/brazil-highway-traffic-accidents/data).\n",
        "\n",
        "\n",
        "\\\\\n",
        "\n",
        "---\n",
        "\n",
        "\\\\\n",
        "\n",
        "\n",
        "# Interações esperadas\n",
        "\n",
        "Nossas interação causa-efeito alvo será entre as seguintes variáveis: condição climática e um \"score de fatalidade\" (quociente entre o número de vítimas fatais em uma ocorrência, coluna _mortos_, e o número de passageiros envolvidos, coluna _pessoas_).\n",
        "\n",
        "Também iremos nos atentar a outros fatores que podem influenciar um desfecho mais sério:\n",
        "- o momento do dia (coluna *fase_dia*) pode afetar a atenção (via modulação da atenção dos motoristas por conta do ritmo circadiano), luminosidade e movimento na via;\n",
        "- o tipo de pista (coluna *tipo_pista*), que pode determinar o tipo de manobra e o envolvimento de outros veículos; [SUPRIMIDO POR HORA]\n",
        "- a morfologia da pista (coluna *tracado_via*), uma vez que a presença de curvas e cruzamentos podem exacerbar as dificuldades em climas adversos;\n",
        "- a classificação da via (urbana ou rural; coluna *uso_solo*) pode influenciar a velocidade de resgate e atendimento, influenciando o desfecho de saúde dos envolvidos.\n",
        "\n",
        "\\\\\n",
        "\n",
        "---\n",
        "\n",
        "\\\\\n",
        "\n",
        "**Algumas inspiraçoes teóricas:**\n",
        "\n",
        "Igelström E, Craig P, Lewsey J, et al. _\"Causal inference and effect estimation using observational data\"_. J Epidemiol Community Health 2022;76:960–966.\n",
        "\n",
        "\"Causal inference with observational data: A tutorial on propensity score analysis\", doi.org/10.1016/j.leaqua.2023.101678"
      ],
      "metadata": {
        "id": "akb8sPIKB1_p"
      }
    },
    {
      "cell_type": "markdown",
      "source": [
        "# Configurações e preparação"
      ],
      "metadata": {
        "id": "V25xyDviJpqb"
      }
    },
    {
      "cell_type": "code",
      "source": [
        "# INSTALLS"
      ],
      "metadata": {
        "id": "0YKKYB8EEjx6"
      },
      "execution_count": null,
      "outputs": []
    },
    {
      "cell_type": "code",
      "source": [
        "#pip install unidecode"
      ],
      "metadata": {
        "colab": {
          "base_uri": "https://localhost:8080/"
        },
        "id": "p5U1mnKEEfb2",
        "outputId": "fa7349c6-ffc7-4796-a6c8-dde2a07b1141"
      },
      "execution_count": null,
      "outputs": [
        {
          "output_type": "stream",
          "name": "stdout",
          "text": [
            "Requirement already satisfied: unidecode in /usr/local/lib/python3.10/dist-packages (1.3.8)\n"
          ]
        }
      ]
    },
    {
      "cell_type": "code",
      "execution_count": null,
      "metadata": {
        "colab": {
          "base_uri": "https://localhost:8080/"
        },
        "id": "cyF16BqWBVEX",
        "outputId": "47756caf-c918-46fb-b861-0814c836840d"
      },
      "outputs": [
        {
          "output_type": "stream",
          "name": "stdout",
          "text": [
            "Drive already mounted at /content/drive; to attempt to forcibly remount, call drive.mount(\"/content/drive\", force_remount=True).\n"
          ]
        }
      ],
      "source": [
        "# IMPORTS\n",
        "import pandas as pd\n",
        "import numpy as np\n",
        "import matplotlib.pyplot as plt\n",
        "import scipy.io as sio\n",
        "import os\n",
        "import json\n",
        "import scipy\n",
        "import seaborn as sns\n",
        "\n",
        "# ACCESS TO DATA\n",
        "from google.colab import drive\n",
        "drive.mount('/content/drive')"
      ]
    },
    {
      "cell_type": "markdown",
      "source": [
        "#### Agregar os dados de vários anos em um único DataFrame"
      ],
      "metadata": {
        "id": "K7oU6E_iQjeW"
      }
    },
    {
      "cell_type": "code",
      "source": [
        "anos = list(range(2007,2022,1))"
      ],
      "metadata": {
        "id": "yFiiB4PMRQOI"
      },
      "execution_count": null,
      "outputs": []
    },
    {
      "cell_type": "code",
      "source": [
        "acidentes = [] # todos acidentes registrados entre 2007-2021\n",
        "for ano in anos:\n",
        "  acidentes_ano = pd.read_csv(f'./drive/MyDrive/data/acidentes/datatran{ano}.csv', sep = ';', encoding = 'latin1', decimal = ',').copy()\n",
        "  acidentes_ano['ano'] = ano\n",
        "\n",
        "  acidentes.append(acidentes_ano)\n",
        "  del acidentes_ano # limpar a memória"
      ],
      "metadata": {
        "colab": {
          "base_uri": "https://localhost:8080/"
        },
        "id": "TUfF8MxKBah6",
        "outputId": "ee9c4078-2266-4032-9090-7aa0634b406e"
      },
      "execution_count": null,
      "outputs": [
        {
          "output_type": "stream",
          "name": "stderr",
          "text": [
            "<ipython-input-3-50d0a9a5aa47>:3: DtypeWarning: Columns (5) have mixed types. Specify dtype option on import or set low_memory=False.\n",
            "  acidentes_ano = pd.read_csv(f'./drive/MyDrive/data/acidentes/datatran{ano}.csv', sep = ';', encoding = 'latin1', decimal = ',').copy()\n",
            "<ipython-input-3-50d0a9a5aa47>:3: DtypeWarning: Columns (5) have mixed types. Specify dtype option on import or set low_memory=False.\n",
            "  acidentes_ano = pd.read_csv(f'./drive/MyDrive/data/acidentes/datatran{ano}.csv', sep = ';', encoding = 'latin1', decimal = ',').copy()\n",
            "<ipython-input-3-50d0a9a5aa47>:3: DtypeWarning: Columns (5) have mixed types. Specify dtype option on import or set low_memory=False.\n",
            "  acidentes_ano = pd.read_csv(f'./drive/MyDrive/data/acidentes/datatran{ano}.csv', sep = ';', encoding = 'latin1', decimal = ',').copy()\n"
          ]
        }
      ]
    },
    {
      "cell_type": "code",
      "source": [
        "acidentes_global = pd.concat(acidentes).copy()\n",
        "print(f'Há {len(acidentes_global)} acidentes registrados no período 2007-2021')"
      ],
      "metadata": {
        "colab": {
          "base_uri": "https://localhost:8080/"
        },
        "id": "ETYw6rfxRzRz",
        "outputId": "37dba4bb-fc30-42cb-902e-03ff419b1deb"
      },
      "execution_count": null,
      "outputs": [
        {
          "output_type": "stream",
          "name": "stdout",
          "text": [
            "Há 1882953 acidentes registrados no período 2007-2021\n"
          ]
        }
      ]
    },
    {
      "cell_type": "code",
      "source": [
        "acidentes_global.columns"
      ],
      "metadata": {
        "colab": {
          "base_uri": "https://localhost:8080/"
        },
        "id": "MrnAgEIbT7ah",
        "outputId": "d5b957c3-55cb-4e85-884c-654e8d7e3c6d"
      },
      "execution_count": null,
      "outputs": [
        {
          "output_type": "execute_result",
          "data": {
            "text/plain": [
              "Index(['id', 'data_inversa', 'dia_semana', 'horario', 'uf', 'br', 'km',\n",
              "       'municipio', 'causa_acidente', 'tipo_acidente',\n",
              "       'classificacao_acidente', 'fase_dia', 'sentido_via',\n",
              "       'condicao_metereologica', 'tipo_pista', 'tracado_via', 'uso_solo',\n",
              "       'ano', 'pessoas', 'mortos', 'feridos_leves', 'feridos_graves', 'ilesos',\n",
              "       'ignorados', 'feridos', 'veiculos', 'latitude', 'longitude', 'regional',\n",
              "       'delegacia', 'uop'],\n",
              "      dtype='object')"
            ]
          },
          "metadata": {},
          "execution_count": 5
        }
      ]
    },
    {
      "cell_type": "markdown",
      "source": [
        "# Modificações previstas no conjunto de dados\n",
        "\n",
        "1. Criar uma coluna \"score de fatalidade\" como delineado acima (vítimas fatais/número de envolvidos no acidente) ✔\n",
        "2. Omitir as demais colunas (i.e. _drop_ em uma cópia do dataframe) ✔\n",
        "3. Remover linhas com valor nulo para as variáveis de interesse (no futuro pode-se fazer uma inputação; agora não disponho de tanto tempo); ✔\n",
        "4. Transformar os rótulos textuais da condição climática para um score: 1 = {céu claro, sol}, 2 = {nublado, vento, garoa/chuvisco}, 3 = {chuva, neve, nevoeiro/neblina, granizo}; ✔\n",
        "5. Fazer transformações similares de rótulo textual para integer. Convenção: _valores menores serão imputados a condições menos adversas (e.g. via reta, pleno dia, via urbana, etc.) e valores mais altos a condições mais adversas (e.g. pista curva, plena noite, via rural, etc.)."
      ],
      "metadata": {
        "id": "92n0yuoYNqVV"
      }
    },
    {
      "cell_type": "code",
      "source": [
        "# 1. Criar uma coluna \"score de fatalidade\" como delineado acima (vítimas fatais/número de envolvidos no acidente) ✔\n",
        "acidentes_global['score_fatalidade'] = acidentes_global['mortos']/acidentes_global['pessoas']"
      ],
      "metadata": {
        "id": "Oc5uPFE84CMr"
      },
      "execution_count": null,
      "outputs": []
    },
    {
      "cell_type": "code",
      "source": [
        "# 2. Omitir as demais colunas\n",
        "\n",
        "target_vars = ['fase_dia','condicao_metereologica','tipo_pista','tracado_via','uso_solo','score_fatalidade']\n",
        "\n",
        "acidentes_df = acidentes_global[target_vars].copy()"
      ],
      "metadata": {
        "id": "b8QEbCYJTsLK"
      },
      "execution_count": null,
      "outputs": []
    },
    {
      "cell_type": "code",
      "source": [
        "# 3. Remover linhas com valor nulo para as variáveis de interesse (no futuro pode-se fazer uma inputação; agora não disponho de tanto tempo)\n",
        "\n",
        "# O dataframe tem variação nesses rótulos por conta de unicode/capitalização. Vamos modificar isso tirando os acentos e capitalizando tudo\n",
        "for col in ['condicao_metereologica','fase_dia','tipo_pista','tracado_via','uso_solo']:\n",
        "  acidentes_df[col] = acidentes_df[col].str.normalize('NFKD').str.encode('ascii', errors='ignore').str.decode('utf-8')\n",
        "  acidentes_df[col] = acidentes_df[col].str.upper()\n",
        "\n",
        "#print(acidentes_df.condicao_metereologica.unique()) # A var. causal tem valores NaN e strings '(null)' e 'Ignorada' que não são informativos e vamos remover as linhas que os contenham\n",
        "print('# antes da filtragem:',len(acidentes_df))"
      ],
      "metadata": {
        "colab": {
          "base_uri": "https://localhost:8080/"
        },
        "id": "0Gby5ftB5GMx",
        "outputId": "c7610038-9055-4d75-8082-056735bc7479"
      },
      "execution_count": null,
      "outputs": [
        {
          "output_type": "stream",
          "name": "stdout",
          "text": [
            "# antes da filtragem: 1882953\n"
          ]
        }
      ]
    },
    {
      "cell_type": "code",
      "source": [
        "# Remover linhas cujo valor na coluna-alvo esteja na lista de valores passada\n",
        "def filter_entry_by_column_value(df, column, values):\n",
        "  lines_with_condition = df[column].isin(values)\n",
        "  return df[~lines_with_condition].copy()\n",
        "\n",
        "# Variável de interesse (causal)\n",
        "acidentes_df = filter_entry_by_column_value(acidentes_df,'condicao_metereologica',values=['(NULL)','IGNORADA','IGNORADO',np.nan])\n",
        "\n",
        "# Outras variáveis\n",
        "acidentes_df = filter_entry_by_column_value(acidentes_df,'tracado_via',values=['(NULL)','NAO INFORMADO',np.nan])\n",
        "acidentes_df = filter_entry_by_column_value(acidentes_df,'tipo_pista',values=['(NULL)'])\n",
        "acidentes_df = filter_entry_by_column_value(acidentes_df,'fase_dia',values=['(NULL)',np.nan])\n",
        "acidentes_df = filter_entry_by_column_value(acidentes_df,'uso_solo',values=['NAO','SIM']) # não sabemos o que são as tags \"não\"/\"sim\"\n",
        "\n",
        "#print(acidentes_df.condicao_metereologica.unique())\n",
        "print('# depois da filtragem:',len(acidentes_df))"
      ],
      "metadata": {
        "colab": {
          "base_uri": "https://localhost:8080/"
        },
        "id": "sl4JrrcwMmWJ",
        "outputId": "9c66c372-9735-40ea-87a1-0bf2b6daf05a"
      },
      "execution_count": null,
      "outputs": [
        {
          "output_type": "stream",
          "name": "stdout",
          "text": [
            "# depois da filtragem: 1533655\n"
          ]
        }
      ]
    },
    {
      "cell_type": "code",
      "source": [
        "# 4. Transformar os rótulos textuais da condição climática para um score: 1 = {céu claro, sol}, 2 = {nublado, vento, garoa/chuvisco}, 3 = {chuva, neve, nevoeiro/neblina, granizo}\n",
        "\n",
        "# Definir os novos rótulos\n",
        "\n",
        "# Condições metereológicas:\n",
        "condicoes_dict = {'CEU CLARO':1,'SOL':1,\n",
        "                  'NUBLADO':2,'VENTO':2,'GAROA/CHUVISCO':2,\n",
        "                  'CHUVA':3,'NEVOEIRO/NEBLINA':3,'GRANIZO':3,'NEVE':3}\n",
        "\n",
        "# Uso do solo:\n",
        "uso_solo_dict = {'RURAL': 0, 'URBANO':1}\n",
        "\n",
        "# Fase do dia:\n",
        "fase_dia_dict = {'PLENO DIA': 1,\n",
        "                 'AMANHECER':2,'ANOITECER':2,\n",
        "                 'PLENA NOITE':3}\n",
        "\n",
        "# Tipo de pista:\n",
        "tipo_pista_dict = {'SIMPLES': 1,'DUPLA': 1,'MULTIPLA': 1} # não me convenci imediatamente de que uma oferece mais periculosidade que a outra então por enquanto deixo todas com mesmo valor\n",
        "\n",
        "# Traçado da via:\n",
        "# Aplicar apenas à reta um valor menor (decisão arbitrária)\n",
        "tracados_dict = {tracado:2 for tracado in acidentes_df.tracado_via.unique()}\n",
        "tracados_dict.update({'RETA':1})\n",
        "\n",
        "# Fazer as substituições\n",
        "acidentes_df.replace(to_replace={'condicao_metereologica':condicoes_dict},inplace=True)\n",
        "acidentes_df.replace(to_replace={'uso_solo':uso_solo_dict},inplace=True)\n",
        "acidentes_df.replace(to_replace={'tracado_via':tracados_dict},inplace=True)\n",
        "acidentes_df.replace(to_replace={'fase_dia':fase_dia_dict},inplace=True)"
      ],
      "metadata": {
        "id": "ru0-Bm8eKI-3"
      },
      "execution_count": null,
      "outputs": []
    },
    {
      "cell_type": "code",
      "source": [
        "# Aparência do df\n",
        "acidentes_df.head(10)"
      ],
      "metadata": {
        "colab": {
          "base_uri": "https://localhost:8080/",
          "height": 362
        },
        "id": "zLlyepEKNX6o",
        "outputId": "883ff9e1-c513-4adf-8d50-fd0dc0bd38a5"
      },
      "execution_count": null,
      "outputs": [
        {
          "output_type": "execute_result",
          "data": {
            "text/plain": [
              "   fase_dia  condicao_metereologica tipo_pista  tracado_via  uso_solo  \\\n",
              "0         1                       1      DUPLA            1         0   \n",
              "1         1                       3      DUPLA            1         0   \n",
              "2         1                       1    SIMPLES            1         0   \n",
              "3         3                       1    SIMPLES            1         1   \n",
              "4         2                       1      DUPLA            1         0   \n",
              "5         2                       3    SIMPLES            2         0   \n",
              "6         1                       1    SIMPLES            2         1   \n",
              "7         3                       1   MULTIPLA            1         1   \n",
              "8         3                       3    SIMPLES            2         0   \n",
              "9         3                       2    SIMPLES            1         1   \n",
              "\n",
              "   score_fatalidade  \n",
              "0               0.0  \n",
              "1               0.0  \n",
              "2               0.0  \n",
              "3               0.4  \n",
              "4               0.0  \n",
              "5               0.0  \n",
              "6               0.0  \n",
              "7               0.0  \n",
              "8               0.0  \n",
              "9               0.0  "
            ],
            "text/html": [
              "\n",
              "  <div id=\"df-e805fc9d-6ed6-40d0-b625-3abb15ad93ff\" class=\"colab-df-container\">\n",
              "    <div>\n",
              "<style scoped>\n",
              "    .dataframe tbody tr th:only-of-type {\n",
              "        vertical-align: middle;\n",
              "    }\n",
              "\n",
              "    .dataframe tbody tr th {\n",
              "        vertical-align: top;\n",
              "    }\n",
              "\n",
              "    .dataframe thead th {\n",
              "        text-align: right;\n",
              "    }\n",
              "</style>\n",
              "<table border=\"1\" class=\"dataframe\">\n",
              "  <thead>\n",
              "    <tr style=\"text-align: right;\">\n",
              "      <th></th>\n",
              "      <th>fase_dia</th>\n",
              "      <th>condicao_metereologica</th>\n",
              "      <th>tipo_pista</th>\n",
              "      <th>tracado_via</th>\n",
              "      <th>uso_solo</th>\n",
              "      <th>score_fatalidade</th>\n",
              "    </tr>\n",
              "  </thead>\n",
              "  <tbody>\n",
              "    <tr>\n",
              "      <th>0</th>\n",
              "      <td>1</td>\n",
              "      <td>1</td>\n",
              "      <td>DUPLA</td>\n",
              "      <td>1</td>\n",
              "      <td>0</td>\n",
              "      <td>0.0</td>\n",
              "    </tr>\n",
              "    <tr>\n",
              "      <th>1</th>\n",
              "      <td>1</td>\n",
              "      <td>3</td>\n",
              "      <td>DUPLA</td>\n",
              "      <td>1</td>\n",
              "      <td>0</td>\n",
              "      <td>0.0</td>\n",
              "    </tr>\n",
              "    <tr>\n",
              "      <th>2</th>\n",
              "      <td>1</td>\n",
              "      <td>1</td>\n",
              "      <td>SIMPLES</td>\n",
              "      <td>1</td>\n",
              "      <td>0</td>\n",
              "      <td>0.0</td>\n",
              "    </tr>\n",
              "    <tr>\n",
              "      <th>3</th>\n",
              "      <td>3</td>\n",
              "      <td>1</td>\n",
              "      <td>SIMPLES</td>\n",
              "      <td>1</td>\n",
              "      <td>1</td>\n",
              "      <td>0.4</td>\n",
              "    </tr>\n",
              "    <tr>\n",
              "      <th>4</th>\n",
              "      <td>2</td>\n",
              "      <td>1</td>\n",
              "      <td>DUPLA</td>\n",
              "      <td>1</td>\n",
              "      <td>0</td>\n",
              "      <td>0.0</td>\n",
              "    </tr>\n",
              "    <tr>\n",
              "      <th>5</th>\n",
              "      <td>2</td>\n",
              "      <td>3</td>\n",
              "      <td>SIMPLES</td>\n",
              "      <td>2</td>\n",
              "      <td>0</td>\n",
              "      <td>0.0</td>\n",
              "    </tr>\n",
              "    <tr>\n",
              "      <th>6</th>\n",
              "      <td>1</td>\n",
              "      <td>1</td>\n",
              "      <td>SIMPLES</td>\n",
              "      <td>2</td>\n",
              "      <td>1</td>\n",
              "      <td>0.0</td>\n",
              "    </tr>\n",
              "    <tr>\n",
              "      <th>7</th>\n",
              "      <td>3</td>\n",
              "      <td>1</td>\n",
              "      <td>MULTIPLA</td>\n",
              "      <td>1</td>\n",
              "      <td>1</td>\n",
              "      <td>0.0</td>\n",
              "    </tr>\n",
              "    <tr>\n",
              "      <th>8</th>\n",
              "      <td>3</td>\n",
              "      <td>3</td>\n",
              "      <td>SIMPLES</td>\n",
              "      <td>2</td>\n",
              "      <td>0</td>\n",
              "      <td>0.0</td>\n",
              "    </tr>\n",
              "    <tr>\n",
              "      <th>9</th>\n",
              "      <td>3</td>\n",
              "      <td>2</td>\n",
              "      <td>SIMPLES</td>\n",
              "      <td>1</td>\n",
              "      <td>1</td>\n",
              "      <td>0.0</td>\n",
              "    </tr>\n",
              "  </tbody>\n",
              "</table>\n",
              "</div>\n",
              "    <div class=\"colab-df-buttons\">\n",
              "\n",
              "  <div class=\"colab-df-container\">\n",
              "    <button class=\"colab-df-convert\" onclick=\"convertToInteractive('df-e805fc9d-6ed6-40d0-b625-3abb15ad93ff')\"\n",
              "            title=\"Convert this dataframe to an interactive table.\"\n",
              "            style=\"display:none;\">\n",
              "\n",
              "  <svg xmlns=\"http://www.w3.org/2000/svg\" height=\"24px\" viewBox=\"0 -960 960 960\">\n",
              "    <path d=\"M120-120v-720h720v720H120Zm60-500h600v-160H180v160Zm220 220h160v-160H400v160Zm0 220h160v-160H400v160ZM180-400h160v-160H180v160Zm440 0h160v-160H620v160ZM180-180h160v-160H180v160Zm440 0h160v-160H620v160Z\"/>\n",
              "  </svg>\n",
              "    </button>\n",
              "\n",
              "  <style>\n",
              "    .colab-df-container {\n",
              "      display:flex;\n",
              "      gap: 12px;\n",
              "    }\n",
              "\n",
              "    .colab-df-convert {\n",
              "      background-color: #E8F0FE;\n",
              "      border: none;\n",
              "      border-radius: 50%;\n",
              "      cursor: pointer;\n",
              "      display: none;\n",
              "      fill: #1967D2;\n",
              "      height: 32px;\n",
              "      padding: 0 0 0 0;\n",
              "      width: 32px;\n",
              "    }\n",
              "\n",
              "    .colab-df-convert:hover {\n",
              "      background-color: #E2EBFA;\n",
              "      box-shadow: 0px 1px 2px rgba(60, 64, 67, 0.3), 0px 1px 3px 1px rgba(60, 64, 67, 0.15);\n",
              "      fill: #174EA6;\n",
              "    }\n",
              "\n",
              "    .colab-df-buttons div {\n",
              "      margin-bottom: 4px;\n",
              "    }\n",
              "\n",
              "    [theme=dark] .colab-df-convert {\n",
              "      background-color: #3B4455;\n",
              "      fill: #D2E3FC;\n",
              "    }\n",
              "\n",
              "    [theme=dark] .colab-df-convert:hover {\n",
              "      background-color: #434B5C;\n",
              "      box-shadow: 0px 1px 3px 1px rgba(0, 0, 0, 0.15);\n",
              "      filter: drop-shadow(0px 1px 2px rgba(0, 0, 0, 0.3));\n",
              "      fill: #FFFFFF;\n",
              "    }\n",
              "  </style>\n",
              "\n",
              "    <script>\n",
              "      const buttonEl =\n",
              "        document.querySelector('#df-e805fc9d-6ed6-40d0-b625-3abb15ad93ff button.colab-df-convert');\n",
              "      buttonEl.style.display =\n",
              "        google.colab.kernel.accessAllowed ? 'block' : 'none';\n",
              "\n",
              "      async function convertToInteractive(key) {\n",
              "        const element = document.querySelector('#df-e805fc9d-6ed6-40d0-b625-3abb15ad93ff');\n",
              "        const dataTable =\n",
              "          await google.colab.kernel.invokeFunction('convertToInteractive',\n",
              "                                                    [key], {});\n",
              "        if (!dataTable) return;\n",
              "\n",
              "        const docLinkHtml = 'Like what you see? Visit the ' +\n",
              "          '<a target=\"_blank\" href=https://colab.research.google.com/notebooks/data_table.ipynb>data table notebook</a>'\n",
              "          + ' to learn more about interactive tables.';\n",
              "        element.innerHTML = '';\n",
              "        dataTable['output_type'] = 'display_data';\n",
              "        await google.colab.output.renderOutput(dataTable, element);\n",
              "        const docLink = document.createElement('div');\n",
              "        docLink.innerHTML = docLinkHtml;\n",
              "        element.appendChild(docLink);\n",
              "      }\n",
              "    </script>\n",
              "  </div>\n",
              "\n",
              "\n",
              "<div id=\"df-21eed095-ca3d-4fa8-9d75-ecc712ceea16\">\n",
              "  <button class=\"colab-df-quickchart\" onclick=\"quickchart('df-21eed095-ca3d-4fa8-9d75-ecc712ceea16')\"\n",
              "            title=\"Suggest charts\"\n",
              "            style=\"display:none;\">\n",
              "\n",
              "<svg xmlns=\"http://www.w3.org/2000/svg\" height=\"24px\"viewBox=\"0 0 24 24\"\n",
              "     width=\"24px\">\n",
              "    <g>\n",
              "        <path d=\"M19 3H5c-1.1 0-2 .9-2 2v14c0 1.1.9 2 2 2h14c1.1 0 2-.9 2-2V5c0-1.1-.9-2-2-2zM9 17H7v-7h2v7zm4 0h-2V7h2v10zm4 0h-2v-4h2v4z\"/>\n",
              "    </g>\n",
              "</svg>\n",
              "  </button>\n",
              "\n",
              "<style>\n",
              "  .colab-df-quickchart {\n",
              "      --bg-color: #E8F0FE;\n",
              "      --fill-color: #1967D2;\n",
              "      --hover-bg-color: #E2EBFA;\n",
              "      --hover-fill-color: #174EA6;\n",
              "      --disabled-fill-color: #AAA;\n",
              "      --disabled-bg-color: #DDD;\n",
              "  }\n",
              "\n",
              "  [theme=dark] .colab-df-quickchart {\n",
              "      --bg-color: #3B4455;\n",
              "      --fill-color: #D2E3FC;\n",
              "      --hover-bg-color: #434B5C;\n",
              "      --hover-fill-color: #FFFFFF;\n",
              "      --disabled-bg-color: #3B4455;\n",
              "      --disabled-fill-color: #666;\n",
              "  }\n",
              "\n",
              "  .colab-df-quickchart {\n",
              "    background-color: var(--bg-color);\n",
              "    border: none;\n",
              "    border-radius: 50%;\n",
              "    cursor: pointer;\n",
              "    display: none;\n",
              "    fill: var(--fill-color);\n",
              "    height: 32px;\n",
              "    padding: 0;\n",
              "    width: 32px;\n",
              "  }\n",
              "\n",
              "  .colab-df-quickchart:hover {\n",
              "    background-color: var(--hover-bg-color);\n",
              "    box-shadow: 0 1px 2px rgba(60, 64, 67, 0.3), 0 1px 3px 1px rgba(60, 64, 67, 0.15);\n",
              "    fill: var(--button-hover-fill-color);\n",
              "  }\n",
              "\n",
              "  .colab-df-quickchart-complete:disabled,\n",
              "  .colab-df-quickchart-complete:disabled:hover {\n",
              "    background-color: var(--disabled-bg-color);\n",
              "    fill: var(--disabled-fill-color);\n",
              "    box-shadow: none;\n",
              "  }\n",
              "\n",
              "  .colab-df-spinner {\n",
              "    border: 2px solid var(--fill-color);\n",
              "    border-color: transparent;\n",
              "    border-bottom-color: var(--fill-color);\n",
              "    animation:\n",
              "      spin 1s steps(1) infinite;\n",
              "  }\n",
              "\n",
              "  @keyframes spin {\n",
              "    0% {\n",
              "      border-color: transparent;\n",
              "      border-bottom-color: var(--fill-color);\n",
              "      border-left-color: var(--fill-color);\n",
              "    }\n",
              "    20% {\n",
              "      border-color: transparent;\n",
              "      border-left-color: var(--fill-color);\n",
              "      border-top-color: var(--fill-color);\n",
              "    }\n",
              "    30% {\n",
              "      border-color: transparent;\n",
              "      border-left-color: var(--fill-color);\n",
              "      border-top-color: var(--fill-color);\n",
              "      border-right-color: var(--fill-color);\n",
              "    }\n",
              "    40% {\n",
              "      border-color: transparent;\n",
              "      border-right-color: var(--fill-color);\n",
              "      border-top-color: var(--fill-color);\n",
              "    }\n",
              "    60% {\n",
              "      border-color: transparent;\n",
              "      border-right-color: var(--fill-color);\n",
              "    }\n",
              "    80% {\n",
              "      border-color: transparent;\n",
              "      border-right-color: var(--fill-color);\n",
              "      border-bottom-color: var(--fill-color);\n",
              "    }\n",
              "    90% {\n",
              "      border-color: transparent;\n",
              "      border-bottom-color: var(--fill-color);\n",
              "    }\n",
              "  }\n",
              "</style>\n",
              "\n",
              "  <script>\n",
              "    async function quickchart(key) {\n",
              "      const quickchartButtonEl =\n",
              "        document.querySelector('#' + key + ' button');\n",
              "      quickchartButtonEl.disabled = true;  // To prevent multiple clicks.\n",
              "      quickchartButtonEl.classList.add('colab-df-spinner');\n",
              "      try {\n",
              "        const charts = await google.colab.kernel.invokeFunction(\n",
              "            'suggestCharts', [key], {});\n",
              "      } catch (error) {\n",
              "        console.error('Error during call to suggestCharts:', error);\n",
              "      }\n",
              "      quickchartButtonEl.classList.remove('colab-df-spinner');\n",
              "      quickchartButtonEl.classList.add('colab-df-quickchart-complete');\n",
              "    }\n",
              "    (() => {\n",
              "      let quickchartButtonEl =\n",
              "        document.querySelector('#df-21eed095-ca3d-4fa8-9d75-ecc712ceea16 button');\n",
              "      quickchartButtonEl.style.display =\n",
              "        google.colab.kernel.accessAllowed ? 'block' : 'none';\n",
              "    })();\n",
              "  </script>\n",
              "</div>\n",
              "\n",
              "    </div>\n",
              "  </div>\n"
            ],
            "application/vnd.google.colaboratory.intrinsic+json": {
              "type": "dataframe",
              "variable_name": "acidentes_df"
            }
          },
          "metadata": {},
          "execution_count": 11
        }
      ]
    }
  ]
}