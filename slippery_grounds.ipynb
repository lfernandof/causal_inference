{
  "nbformat": 4,
  "nbformat_minor": 0,
  "metadata": {
    "colab": {
      "provenance": [],
      "authorship_tag": "ABX9TyODlyYt+WKOvIov5SxXaHce",
      "include_colab_link": true
    },
    "kernelspec": {
      "name": "python3",
      "display_name": "Python 3"
    },
    "language_info": {
      "name": "python"
    }
  },
  "cells": [
    {
      "cell_type": "markdown",
      "metadata": {
        "id": "view-in-github",
        "colab_type": "text"
      },
      "source": [
        "<a href=\"https://colab.research.google.com/github/lfernandof/causal_inference/blob/main/slippery_grounds.ipynb\" target=\"_parent\"><img src=\"https://colab.research.google.com/assets/colab-badge.svg\" alt=\"Open In Colab\"/></a>"
      ]
    },
    {
      "cell_type": "markdown",
      "source": [
        "<center>\n",
        "\n",
        "## Erro de português\n",
        ">Quando o português chegou \\\\\n",
        ">debaixo duma bruta chuva \\\\\n",
        ">vestiu o índio \\\\\n",
        ">que pena! \\\\\n",
        ">fosse uma manhã de sol \\\\\n",
        ">o índio tinha despido o português \\\\\n",
        "\n",
        "</center>\n",
        "\n",
        "<right>Oswald de Andrade, 1927</right>\n",
        "\n",
        "\\\\\n",
        "\n",
        "---\n",
        "\n",
        "\\\\\n",
        "\n",
        "Aquaplanagem, menor visibilidade, risco de derrapamento: condições climáticas advsersas podem impactar a maneira como pessoas dirigem e a segurança na via. Além do senso comum, o manual de direção defensiva recomenda uma maior distância de seguimento e menor velocidade em condições de tempo adversas. No célebre poema \"Erro de Português\" apresentado acima, Oswald de Andrade (1890-1954) entreteve: _\"fosse uma manhã de sol...\"_\n",
        "\n",
        "\\\\\n",
        "\n",
        "Com este estudo, pretendo uma resposta tentativa a esse questionamento: **Em um mundo contrafactual, onde os motoristas não estão sujeitos às intempéries, observaríamos a mesma taxa de fatalidade em acidentes nas estradas brasileiras?**\n",
        "\n",
        "\\\\\n",
        "\n",
        "Para responder a essa questão eu vou utilizar o *paradigma de desfechos potenciais* (potential outcomes), também conhecido por *modelo causal de Neyman-Rubin*, aplicados a dados de acidentes de trânsito em território nacional, coletados entre 2007–2021 e compilados pela Polícia Rodoviária Federal (PRF), gentilmente [disponibilizados como um data set público no Kaggle](https://www.kaggle.com/datasets/mcamera/brazil-highway-traffic-accidents/data).\n",
        "\n",
        "\n",
        "\\\\\n",
        "\n",
        "---\n",
        "\n",
        "\\\\\n",
        "\n",
        "\n",
        "# Interações esperadas\n",
        "\n",
        "Nossas interação causa-efeito alvo será entre as seguintes variáveis: condição climática e um \"score de fatalidade\" (quociente entre o número de vítimas fatais em uma ocorrência, coluna _mortos_, e o número de passageiros envolvidos, coluna _pessoas_).\n",
        "\n",
        "Também iremos nos atentar a outros fatores que podem influenciar um desfecho mais sério:\n",
        "- o momento do dia (coluna *fase_dia*) pode afetar a atenção (via modulação da atenção dos motoristas por conta do ritmo circadiano), luminosidade e movimento na via;\n",
        "- o tipo de pista (coluna *tipo_pista*), que pode determinar o tipo de manobra e o envolvimento de outros veículos; [SUPRIMIDO POR HORA]\n",
        "- a morfologia da pista (coluna *tracado_via*), uma vez que a presença de curvas e cruzamentos podem exacerbar as dificuldades em climas adversos;\n",
        "- a classificação da via (urbana ou rural; coluna *uso_solo*) pode influenciar a velocidade de resgate e atendimento, influenciando o desfecho de saúde dos envolvidos.\n",
        "\n",
        "\\\\\n",
        "\n",
        "---\n",
        "\n",
        "\\\\\n",
        "\n",
        "**Algumas inspiraçoes teóricas:**\n",
        "\n",
        "Igelström E, Craig P, Lewsey J, et al. _\"Causal inference and effect estimation using observational data\"_. J Epidemiol Community Health 2022;76:960–966.\n",
        "\n",
        "\"Causal inference with observational data: A tutorial on propensity score analysis\", doi.org/10.1016/j.leaqua.2023.101678"
      ],
      "metadata": {
        "id": "akb8sPIKB1_p"
      }
    },
    {
      "cell_type": "markdown",
      "source": [
        "# Configurações e preparação"
      ],
      "metadata": {
        "id": "V25xyDviJpqb"
      }
    },
    {
      "cell_type": "code",
      "source": [
        "# INSTALLS"
      ],
      "metadata": {
        "id": "0YKKYB8EEjx6"
      },
      "execution_count": 1,
      "outputs": []
    },
    {
      "cell_type": "code",
      "source": [
        "#pip install unidecode"
      ],
      "metadata": {
        "id": "p5U1mnKEEfb2"
      },
      "execution_count": 2,
      "outputs": []
    },
    {
      "cell_type": "code",
      "source": [
        "pip install causalinference"
      ],
      "metadata": {
        "colab": {
          "base_uri": "https://localhost:8080/"
        },
        "id": "Hubhd8Baq_DT",
        "outputId": "db65db3b-322d-47e7-f501-a4211a17b5b6"
      },
      "execution_count": 1,
      "outputs": [
        {
          "output_type": "stream",
          "name": "stdout",
          "text": [
            "Collecting causalinference\n",
            "  Downloading CausalInference-0.1.3-py3-none-any.whl (51 kB)\n",
            "\u001b[2K     \u001b[90m━━━━━━━━━━━━━━━━━━━━━━━━━━━━━━━━━━━━━━━━\u001b[0m \u001b[32m51.1/51.1 kB\u001b[0m \u001b[31m1.0 MB/s\u001b[0m eta \u001b[36m0:00:00\u001b[0m\n",
            "\u001b[?25hInstalling collected packages: causalinference\n",
            "Successfully installed causalinference-0.1.3\n"
          ]
        }
      ]
    },
    {
      "cell_type": "code",
      "execution_count": 1,
      "metadata": {
        "colab": {
          "base_uri": "https://localhost:8080/"
        },
        "id": "cyF16BqWBVEX",
        "outputId": "9b97a74f-f894-41e4-dc67-0e90035146e6"
      },
      "outputs": [
        {
          "output_type": "stream",
          "name": "stdout",
          "text": [
            "Drive already mounted at /content/drive; to attempt to forcibly remount, call drive.mount(\"/content/drive\", force_remount=True).\n"
          ]
        }
      ],
      "source": [
        "# IMPORTS\n",
        "import pandas as pd\n",
        "import numpy as np\n",
        "import matplotlib.pyplot as plt\n",
        "import scipy.io as sio\n",
        "import os\n",
        "import json\n",
        "import scipy\n",
        "import seaborn as sns\n",
        "\n",
        "# ACCESS TO DATA\n",
        "from google.colab import drive\n",
        "drive.mount('/content/drive')"
      ]
    },
    {
      "cell_type": "markdown",
      "source": [
        "#### Agregar os dados de vários anos em um único DataFrame"
      ],
      "metadata": {
        "id": "K7oU6E_iQjeW"
      }
    },
    {
      "cell_type": "code",
      "source": [
        "anos = list(range(2019,2022,1))"
      ],
      "metadata": {
        "id": "yFiiB4PMRQOI"
      },
      "execution_count": 6,
      "outputs": []
    },
    {
      "cell_type": "code",
      "source": [
        "acidentes = [] # todos acidentes registrados entre 2007-2021\n",
        "for ano in anos:\n",
        "  acidentes_ano = pd.read_csv(f'./drive/MyDrive/data/acidentes/datatran{ano}.csv', sep = ';', encoding = 'latin1', decimal = ',').copy()\n",
        "  acidentes_ano['ano'] = ano\n",
        "\n",
        "  acidentes.append(acidentes_ano)\n",
        "  del acidentes_ano # limpar a memória"
      ],
      "metadata": {
        "id": "TUfF8MxKBah6"
      },
      "execution_count": 7,
      "outputs": []
    },
    {
      "cell_type": "code",
      "source": [
        "acidentes_global = pd.concat(acidentes).copy()\n",
        "print(f'Há {len(acidentes_global)} acidentes registrados no período 2007-2021')"
      ],
      "metadata": {
        "colab": {
          "base_uri": "https://localhost:8080/"
        },
        "id": "ETYw6rfxRzRz",
        "outputId": "a004fdb5-9283-40c9-dd90-101d9d63857e"
      },
      "execution_count": 8,
      "outputs": [
        {
          "output_type": "stream",
          "name": "stdout",
          "text": [
            "Há 161895 acidentes registrados no período 2007-2021\n"
          ]
        }
      ]
    },
    {
      "cell_type": "code",
      "source": [
        "acidentes_global.columns"
      ],
      "metadata": {
        "colab": {
          "base_uri": "https://localhost:8080/"
        },
        "id": "MrnAgEIbT7ah",
        "outputId": "3da0914d-1c57-4225-bef5-544407114160"
      },
      "execution_count": 9,
      "outputs": [
        {
          "output_type": "execute_result",
          "data": {
            "text/plain": [
              "Index(['id', 'data_inversa', 'dia_semana', 'horario', 'uf', 'br', 'km',\n",
              "       'municipio', 'causa_acidente', 'tipo_acidente',\n",
              "       'classificacao_acidente', 'fase_dia', 'sentido_via',\n",
              "       'condicao_metereologica', 'tipo_pista', 'tracado_via', 'uso_solo',\n",
              "       'pessoas', 'mortos', 'feridos_leves', 'feridos_graves', 'ilesos',\n",
              "       'ignorados', 'feridos', 'veiculos', 'latitude', 'longitude', 'regional',\n",
              "       'delegacia', 'uop', 'ano'],\n",
              "      dtype='object')"
            ]
          },
          "metadata": {},
          "execution_count": 9
        }
      ]
    },
    {
      "cell_type": "markdown",
      "source": [
        "# Modificações previstas no conjunto de dados\n",
        "\n",
        "1. Criar uma coluna \"score de fatalidade\" como delineado acima (vítimas fatais/número de envolvidos no acidente) ✔\n",
        "2. Omitir as demais colunas (i.e. _drop_ em uma cópia do dataframe) ✔\n",
        "3. Remover linhas com valor nulo para as variáveis de interesse (no futuro pode-se fazer uma inputação; agora não disponho de tanto tempo); ✔\n",
        "4. Transformar os rótulos textuais da condição climática para um score: 1 = {céu claro, sol}, 2 = {nublado, vento, garoa/chuvisco}, 3 = {chuva, neve, nevoeiro/neblina, granizo}; ✔\n",
        "5. Fazer transformações similares de rótulo textual para integer. Convenção: _valores menores serão imputados a condições menos adversas (e.g. via reta, pleno dia, via urbana, etc.) e valores mais altos a condições mais adversas (e.g. pista curva, plena noite, via rural, etc.). ✔"
      ],
      "metadata": {
        "id": "92n0yuoYNqVV"
      }
    },
    {
      "cell_type": "code",
      "source": [
        "# 1. Criar uma coluna \"score de fatalidade\" como delineado acima (vítimas fatais/número de envolvidos no acidente) ✔\n",
        "acidentes_global['score_fatalidade'] = acidentes_global['mortos']/acidentes_global['pessoas']\n",
        "acidentes_global['score_ilesos'] = acidentes_global['ilesos']/acidentes_global['pessoas']"
      ],
      "metadata": {
        "id": "Oc5uPFE84CMr"
      },
      "execution_count": 19,
      "outputs": []
    },
    {
      "cell_type": "code",
      "source": [
        "# 2. Omitir as demais colunas\n",
        "\n",
        "target_vars = ['fase_dia','condicao_metereologica','tipo_pista','tracado_via','score_ilesos','score_fatalidade']\n",
        "\n",
        "acidentes_df = acidentes_global[target_vars].copy()"
      ],
      "metadata": {
        "id": "b8QEbCYJTsLK"
      },
      "execution_count": 36,
      "outputs": []
    },
    {
      "cell_type": "code",
      "source": [
        "# 3. Remover linhas com valor nulo para as variáveis de interesse (no futuro pode-se fazer uma inputação; agora não disponho de tanto tempo)\n",
        "\n",
        "# O dataframe tem variação nesses rótulos por conta de unicode/capitalização. Vamos modificar isso tirando os acentos e capitalizando tudo\n",
        "#for col in ['condicao_metereologica','fase_dia','tipo_pista','tracado_via','uso_solo']:\n",
        "for col in ['condicao_metereologica','fase_dia','tipo_pista','tracado_via']:\n",
        "  acidentes_df[col] = acidentes_df[col].str.normalize('NFKD').str.encode('ascii', errors='ignore').str.decode('utf-8')\n",
        "  acidentes_df[col] = acidentes_df[col].str.upper()\n",
        "\n",
        "#print(acidentes_df.condicao_metereologica.unique()) # A var. causal tem valores NaN e strings '(null)' e 'Ignorada' que não são informativos e vamos remover as linhas que os contenham\n",
        "print('# antes da filtragem:',len(acidentes_df))"
      ],
      "metadata": {
        "colab": {
          "base_uri": "https://localhost:8080/"
        },
        "id": "0Gby5ftB5GMx",
        "outputId": "ae2acf64-9762-42d4-a288-517703da4388"
      },
      "execution_count": 38,
      "outputs": [
        {
          "output_type": "stream",
          "name": "stdout",
          "text": [
            "# antes da filtragem: 161895\n"
          ]
        }
      ]
    },
    {
      "cell_type": "code",
      "source": [
        "# Remover linhas cujo valor na coluna-alvo esteja na lista de valores passada\n",
        "def filter_entry_by_column_value(df, column, values):\n",
        "  lines_with_condition = df[column].isin(values)\n",
        "  return df[~lines_with_condition].copy()\n",
        "\n",
        "# Variável de interesse (causal)\n",
        "acidentes_df = filter_entry_by_column_value(acidentes_df,'condicao_metereologica',values=['(NULL)','IGNORADA','IGNORADO',np.nan])\n",
        "\n",
        "# Outras variáveis\n",
        "acidentes_df = filter_entry_by_column_value(acidentes_df,'tracado_via',values=['(NULL)','NAO INFORMADO',np.nan])\n",
        "acidentes_df = filter_entry_by_column_value(acidentes_df,'tipo_pista',values=['(NULL)'])\n",
        "acidentes_df = filter_entry_by_column_value(acidentes_df,'fase_dia',values=['(NULL)',np.nan])\n",
        "#acidentes_df = filter_entry_by_column_value(acidentes_df,'uso_solo',values=['NAO','SIM']) # não sabemos o que são as tags \"não\"/\"sim\"\n",
        "\n",
        "#print(acidentes_df.condicao_metereologica.unique())\n",
        "print('# depois da filtragem:',len(acidentes_df))"
      ],
      "metadata": {
        "colab": {
          "base_uri": "https://localhost:8080/"
        },
        "id": "sl4JrrcwMmWJ",
        "outputId": "3d4d6279-59b9-4842-c1a1-43afa8b3974e"
      },
      "execution_count": 39,
      "outputs": [
        {
          "output_type": "stream",
          "name": "stdout",
          "text": [
            "# depois da filtragem: 141313\n"
          ]
        }
      ]
    },
    {
      "cell_type": "code",
      "source": [
        "# 4. Transformar os rótulos textuais da condição climática para um score: 1 = {céu claro, sol}, 2 = {nublado, vento, garoa/chuvisco}, 3 = {chuva, neve, nevoeiro/neblina, granizo}\n",
        "\n",
        "# Definir os novos rótulos\n",
        "\n",
        "# Condições metereológicas:\n",
        "condicoes_dict = {'CEU CLARO':0,'SOL':0,\n",
        "                  'NUBLADO':1,'VENTO':1,'GAROA/CHUVISCO':1,\n",
        "                  'CHUVA':2,'NEVOEIRO/NEBLINA':2,'GRANIZO':2,'NEVE':2}\n",
        "\n",
        "# Uso do solo:\n",
        "uso_solo_dict = {'RURAL': 0, 'URBANO':1}\n",
        "\n",
        "# Fase do dia:\n",
        "fase_dia_dict = {'PLENO DIA': 0,\n",
        "                 'AMANHECER':1,'ANOITECER':1,\n",
        "                 'PLENA NOITE':2}\n",
        "\n",
        "# Tipo de pista:\n",
        "tipo_pista_dict = {'SIMPLES': 0,'DUPLA': 0,'MULTIPLA': 0} # não me convenci imediatamente de que uma oferece mais periculosidade que a outra então por enquanto deixo todas com mesmo valor\n",
        "\n",
        "# Traçado da via:\n",
        "# Aplicar apenas à reta um valor menor (decisão arbitrária)\n",
        "tracados_dict = {tracado:1 for tracado in acidentes_df.tracado_via.unique()}\n",
        "tracados_dict.update({'RETA':0})\n",
        "\n",
        "# Fazer as substituições\n",
        "acidentes_df.replace(to_replace={'condicao_metereologica':condicoes_dict},inplace=True)\n",
        "acidentes_df.replace(to_replace={'uso_solo':uso_solo_dict},inplace=True)\n",
        "acidentes_df.replace(to_replace={'tracado_via':tracados_dict},inplace=True)\n",
        "acidentes_df.replace(to_replace={'fase_dia':fase_dia_dict},inplace=True)\n",
        "acidentes_df.replace(to_replace={'tipo_pista':tipo_pista_dict},inplace=True)"
      ],
      "metadata": {
        "id": "ru0-Bm8eKI-3"
      },
      "execution_count": 40,
      "outputs": []
    },
    {
      "cell_type": "markdown",
      "source": [
        "# Estudo ingênuo do efeito médio do tratamento (\"Naïve\" ATE)\n",
        "\n",
        "A ocorrência de chuva, neblina ou outras intempéries climáticas é um evento aleatório, que independe das demais variáveis acerca do trajeto ou viagem, e.g. traçado da via. Uma análise trivial seria simplesmente comparar os acidentes que ocorreram sob bom e mau tempo.\n",
        "\n",
        "Uma métrica simples para essa comparação é o ATE: average treatment effect, efeito médio do tratamento. Ele é simplesmente a diferença entre as médias de cada grupo, o grupo controle (que não teve intervenção, i.e. bom tempo) e o grupo tratamento (que teve intervenção, i.e. mau tempo).\n",
        "\n",
        "Se pudéssemos observar pra cada observação $i$ tanto o valor da variável-alvo (nesse caso, porcentagem de ilesos no acidente) sob bom tempo $y_i(mau \\; tempo = 0)$ quanto sob mau tempo $y_i(mau \\; tempo = 1)$ bastaria que fizéssemos a média das diferenças em todas as observações:\n",
        "\n",
        "\\begin{equation}\n",
        "ATE = \\frac{1}{N} \\sum_i \\big ( y_i(mau \\; tempo = 1) - y_i(mau \\; tempo = 0) \\big )\n",
        "\\end{equation}\n",
        "\n",
        "Como não dispomos do desfecho simultâneo para uma observação com e sem tratamento esse $ATE$ pode ser calculado como a média de todas observações em cada condição:\n",
        "\n",
        "\\begin{equation}\n",
        "\\widehat{ATE} = \\frac{1}{N_i} \\sum_i y_i(mau \\; tempo = 1) - \\frac{1}{N_j} \\sum_j y_j(mau \\; tempo = 0) \\\\\n",
        "\\quad \\quad = \\mathbb{E}[y_i(mau \\; tempo = 1)] - \\mathbb{E}[y_j(mau \\; tempo = 0)]\n",
        "\\end{equation}\n",
        "\n",
        "onde $i$ são as ocorrências no grupo com intervenção (direção sob mau tempo) e $j$ são as ocorrências no grupo sem (bom tempo)."
      ],
      "metadata": {
        "id": "omyj8LQB5lsW"
      }
    },
    {
      "cell_type": "code",
      "source": [
        "grupo_controle = acidentes_df.query('condicao_metereologica < 1').copy()\n",
        "grupo_intervencao = acidentes_df.query('condicao_metereologica >= 1').copy()\n",
        "\n",
        "print('Observações no grupo controle: ',len(grupo_controle),'\\nObservações no grupo intervenção: ',len(grupo_intervencao))"
      ],
      "metadata": {
        "colab": {
          "base_uri": "https://localhost:8080/"
        },
        "id": "6zrZXlyN52e_",
        "outputId": "97f4db25-80eb-421f-fdd5-ea7f81a42501"
      },
      "execution_count": 41,
      "outputs": [
        {
          "output_type": "stream",
          "name": "stdout",
          "text": [
            "Observações no grupo controle:  95943 \n",
            "Observações no grupo intervenção:  45370\n"
          ]
        }
      ]
    },
    {
      "cell_type": "markdown",
      "source": [
        "Como ambos conjuntos são grandes ($>100.000$ observações), aplica-se a lei dos grandes números e é justificável uma média.\n",
        "\n",
        "A diferença no número de observações em cada grupo é bem grande, ~1 mi observações. Em etapas futuras pode-se fazer um controle com reamostragem (e.g. bootstrapping) da amostra maior.\n",
        "\n",
        "Sem mais delongas, calculemos o ATE."
      ],
      "metadata": {
        "id": "MeiDdQrv-tux"
      }
    },
    {
      "cell_type": "code",
      "source": [
        "media_controle = grupo_controle.score_ilesos.mean()\n",
        "media_intervencao = grupo_intervencao.score_ilesos.mean()\n",
        "print(media_controle,media_intervencao)"
      ],
      "metadata": {
        "colab": {
          "base_uri": "https://localhost:8080/"
        },
        "id": "k7vcfyyT-LhZ",
        "outputId": "fc932e7e-3308-4a26-c3ff-35769ad7cfb5"
      },
      "execution_count": 42,
      "outputs": [
        {
          "output_type": "stream",
          "name": "stdout",
          "text": [
            "0.38385461500540713 0.3771807193250202\n"
          ]
        }
      ]
    },
    {
      "cell_type": "code",
      "source": [
        "ate = media_intervencao - media_controle\n",
        "print('ATE ',ate)"
      ],
      "metadata": {
        "colab": {
          "base_uri": "https://localhost:8080/"
        },
        "id": "-ipV-NjK_kRp",
        "outputId": "be7a35f9-b8b5-431a-882a-9ced66c3237e"
      },
      "execution_count": 43,
      "outputs": [
        {
          "output_type": "stream",
          "name": "stdout",
          "text": [
            "ATE  -0.006673895680386954\n"
          ]
        }
      ]
    },
    {
      "cell_type": "markdown",
      "source": [
        "# Pareamento de score de propensidade (PSM) e efeito médio do tratamento nos tratados (ATT)\n",
        "\n",
        "Contudo, nosso conjunto de dados pode estar enviesado. Diferentemente de ensaios clínicos aleatorizados, temos apenas observações de eventos. Pode ser que hajam, por exemplo, mais vítimas em acidentes na chuva porque eles mais frequentemente acontecerem em pontes ou curvas.\n",
        "\n",
        "\\\n",
        "\n",
        "Para garantir que o efeito observado seja atribuível exclusivamente à intempérie metereológica podemos nos inspirar na técnica de pareamento de score de propensidade (tradução livre de propensity score matching, PSM). Formam-se pares entre itens no grupo de intervenção e controle que sejam similares em todas demais variáveis confusoras (i.e. outros fatores que influenciam o desfecho, e.g. traçado da via no nosso caso) exceto na variável cujo efeito causal no desfecho queremos avaliar.\n",
        "\n",
        "\\\n",
        "\n",
        "Ela funciona da seguinte maneira:\n",
        "\n",
        "\n",
        "1. Atribui a cada observação um identificador com relação às variáveis confusoras (e.g. com um score calculado a partir de uma regressão logística)\n",
        "2. Encontra pares P_i = {intervenção, controle} de observações em cada condição que tenham identificadores parecidos (e.g. scores similares) utilizando alguma técnica (e.g. vizinhos próximos ou distância num espaço N-dimensional) e armazena cada elemento do par em uma distribuição correspondente à condição (e.g. a observação do grupo de intervenção vai pra uma lista de observações do grupo controle já pareadas; similarmente pra observação do grupo controle)\n",
        "3. Pareados todos elementos no grupo intervenção, verifica-se se a distribuição de cada variável confusora é similar em ambas listas (e.g. através de um teste t comparando as médias)\n",
        "4. Se as covariâncias nos dois conjuntos for similar, a ATE calculada usando as observações em cada conjunto vai ser atribuível tão somente à variável causal\n"
      ],
      "metadata": {
        "id": "pXMvGvFIrUer"
      }
    },
    {
      "cell_type": "code",
      "source": [
        "from scipy.spatial import KDTree"
      ],
      "metadata": {
        "id": "kyVtVgcHHD2_"
      },
      "execution_count": 34,
      "outputs": []
    },
    {
      "cell_type": "code",
      "source": [
        "# transforma as observações no grupo de intervenção (mau tempo) em uma estrutura de dados KDTree\n",
        "#desfecho_intervencao = grupo_intervencao['score_ilesos']"
      ],
      "metadata": {
        "id": "eTiQ8gbrFoFv"
      },
      "execution_count": 44,
      "outputs": []
    },
    {
      "cell_type": "code",
      "source": [
        "# cria a estrutura de dados árvore k-d com dados do grupo controle, permitindo uma varredura eficiente por proximidade com base nas dimensões de interesse (variáveis confusoras)\n",
        "kd_controle = KDTree(grupo_controle.drop(columns=['score_ilesos','score_fatalidade','condicao_metereologica']).values)"
      ],
      "metadata": {
        "id": "1keZO8DOP_QW"
      },
      "execution_count": 57,
      "outputs": []
    },
    {
      "cell_type": "code",
      "source": [
        "# buscar na árvore k-d gerada com os dados do grupo controle o id da observação mais próxima de cada observação no grupo intervenção (efetivamente: pares {controle, intervenção})\n",
        "print(kd_controle.query(grupo_intervencao.drop(columns=['score_ilesos','score_fatalidade','condicao_metereologica']).values, k=1)[-1])"
      ],
      "metadata": {
        "colab": {
          "base_uri": "https://localhost:8080/"
        },
        "id": "SQ-Wb95yPhEp",
        "outputId": "8814399b-480a-4014-c172-9f9c0d8993be"
      },
      "execution_count": 59,
      "outputs": [
        {
          "output_type": "stream",
          "name": "stdout",
          "text": [
            "[82410 51958 51958 ... 79984 82410 79984]\n"
          ]
        }
      ]
    },
    {
      "cell_type": "code",
      "source": [
        "# dataframe com os dados desse grupo controle\n",
        "controle_pareado = grupo_controle.iloc[kd_controle.query(grupo_intervencao.drop(columns=['score_ilesos','score_fatalidade','condicao_metereologica']).values, k=1)[-1]]\n",
        "controle_pareado"
      ],
      "metadata": {
        "colab": {
          "base_uri": "https://localhost:8080/",
          "height": 424
        },
        "id": "m61QCP8-V1jg",
        "outputId": "cd6b3ec9-aa6f-470f-98c4-205e0cbfa160"
      },
      "execution_count": 64,
      "outputs": [
        {
          "output_type": "execute_result",
          "data": {
            "text/plain": [
              "       fase_dia  condicao_metereologica  tipo_pista  tracado_via  \\\n",
              "8483          2                       0           0            0   \n",
              "21647         2                       0           0            1   \n",
              "21647         2                       0           0            1   \n",
              "8483          2                       0           0            0   \n",
              "21647         2                       0           0            1   \n",
              "...         ...                     ...         ...          ...   \n",
              "21647         2                       0           0            1   \n",
              "4094          0                       0           0            0   \n",
              "4094          0                       0           0            0   \n",
              "8483          2                       0           0            0   \n",
              "4094          0                       0           0            0   \n",
              "\n",
              "       score_ilesos  score_fatalidade  \n",
              "8483            0.0               0.0  \n",
              "21647           1.0               0.0  \n",
              "21647           1.0               0.0  \n",
              "8483            0.0               0.0  \n",
              "21647           1.0               0.0  \n",
              "...             ...               ...  \n",
              "21647           1.0               0.0  \n",
              "4094            0.5               0.0  \n",
              "4094            0.5               0.0  \n",
              "8483            0.0               0.0  \n",
              "4094            0.5               0.0  \n",
              "\n",
              "[45370 rows x 6 columns]"
            ],
            "text/html": [
              "\n",
              "  <div id=\"df-89c102d5-add2-4528-9c9e-714edc94de06\" class=\"colab-df-container\">\n",
              "    <div>\n",
              "<style scoped>\n",
              "    .dataframe tbody tr th:only-of-type {\n",
              "        vertical-align: middle;\n",
              "    }\n",
              "\n",
              "    .dataframe tbody tr th {\n",
              "        vertical-align: top;\n",
              "    }\n",
              "\n",
              "    .dataframe thead th {\n",
              "        text-align: right;\n",
              "    }\n",
              "</style>\n",
              "<table border=\"1\" class=\"dataframe\">\n",
              "  <thead>\n",
              "    <tr style=\"text-align: right;\">\n",
              "      <th></th>\n",
              "      <th>fase_dia</th>\n",
              "      <th>condicao_metereologica</th>\n",
              "      <th>tipo_pista</th>\n",
              "      <th>tracado_via</th>\n",
              "      <th>score_ilesos</th>\n",
              "      <th>score_fatalidade</th>\n",
              "    </tr>\n",
              "  </thead>\n",
              "  <tbody>\n",
              "    <tr>\n",
              "      <th>8483</th>\n",
              "      <td>2</td>\n",
              "      <td>0</td>\n",
              "      <td>0</td>\n",
              "      <td>0</td>\n",
              "      <td>0.0</td>\n",
              "      <td>0.0</td>\n",
              "    </tr>\n",
              "    <tr>\n",
              "      <th>21647</th>\n",
              "      <td>2</td>\n",
              "      <td>0</td>\n",
              "      <td>0</td>\n",
              "      <td>1</td>\n",
              "      <td>1.0</td>\n",
              "      <td>0.0</td>\n",
              "    </tr>\n",
              "    <tr>\n",
              "      <th>21647</th>\n",
              "      <td>2</td>\n",
              "      <td>0</td>\n",
              "      <td>0</td>\n",
              "      <td>1</td>\n",
              "      <td>1.0</td>\n",
              "      <td>0.0</td>\n",
              "    </tr>\n",
              "    <tr>\n",
              "      <th>8483</th>\n",
              "      <td>2</td>\n",
              "      <td>0</td>\n",
              "      <td>0</td>\n",
              "      <td>0</td>\n",
              "      <td>0.0</td>\n",
              "      <td>0.0</td>\n",
              "    </tr>\n",
              "    <tr>\n",
              "      <th>21647</th>\n",
              "      <td>2</td>\n",
              "      <td>0</td>\n",
              "      <td>0</td>\n",
              "      <td>1</td>\n",
              "      <td>1.0</td>\n",
              "      <td>0.0</td>\n",
              "    </tr>\n",
              "    <tr>\n",
              "      <th>...</th>\n",
              "      <td>...</td>\n",
              "      <td>...</td>\n",
              "      <td>...</td>\n",
              "      <td>...</td>\n",
              "      <td>...</td>\n",
              "      <td>...</td>\n",
              "    </tr>\n",
              "    <tr>\n",
              "      <th>21647</th>\n",
              "      <td>2</td>\n",
              "      <td>0</td>\n",
              "      <td>0</td>\n",
              "      <td>1</td>\n",
              "      <td>1.0</td>\n",
              "      <td>0.0</td>\n",
              "    </tr>\n",
              "    <tr>\n",
              "      <th>4094</th>\n",
              "      <td>0</td>\n",
              "      <td>0</td>\n",
              "      <td>0</td>\n",
              "      <td>0</td>\n",
              "      <td>0.5</td>\n",
              "      <td>0.0</td>\n",
              "    </tr>\n",
              "    <tr>\n",
              "      <th>4094</th>\n",
              "      <td>0</td>\n",
              "      <td>0</td>\n",
              "      <td>0</td>\n",
              "      <td>0</td>\n",
              "      <td>0.5</td>\n",
              "      <td>0.0</td>\n",
              "    </tr>\n",
              "    <tr>\n",
              "      <th>8483</th>\n",
              "      <td>2</td>\n",
              "      <td>0</td>\n",
              "      <td>0</td>\n",
              "      <td>0</td>\n",
              "      <td>0.0</td>\n",
              "      <td>0.0</td>\n",
              "    </tr>\n",
              "    <tr>\n",
              "      <th>4094</th>\n",
              "      <td>0</td>\n",
              "      <td>0</td>\n",
              "      <td>0</td>\n",
              "      <td>0</td>\n",
              "      <td>0.5</td>\n",
              "      <td>0.0</td>\n",
              "    </tr>\n",
              "  </tbody>\n",
              "</table>\n",
              "<p>45370 rows × 6 columns</p>\n",
              "</div>\n",
              "    <div class=\"colab-df-buttons\">\n",
              "\n",
              "  <div class=\"colab-df-container\">\n",
              "    <button class=\"colab-df-convert\" onclick=\"convertToInteractive('df-89c102d5-add2-4528-9c9e-714edc94de06')\"\n",
              "            title=\"Convert this dataframe to an interactive table.\"\n",
              "            style=\"display:none;\">\n",
              "\n",
              "  <svg xmlns=\"http://www.w3.org/2000/svg\" height=\"24px\" viewBox=\"0 -960 960 960\">\n",
              "    <path d=\"M120-120v-720h720v720H120Zm60-500h600v-160H180v160Zm220 220h160v-160H400v160Zm0 220h160v-160H400v160ZM180-400h160v-160H180v160Zm440 0h160v-160H620v160ZM180-180h160v-160H180v160Zm440 0h160v-160H620v160Z\"/>\n",
              "  </svg>\n",
              "    </button>\n",
              "\n",
              "  <style>\n",
              "    .colab-df-container {\n",
              "      display:flex;\n",
              "      gap: 12px;\n",
              "    }\n",
              "\n",
              "    .colab-df-convert {\n",
              "      background-color: #E8F0FE;\n",
              "      border: none;\n",
              "      border-radius: 50%;\n",
              "      cursor: pointer;\n",
              "      display: none;\n",
              "      fill: #1967D2;\n",
              "      height: 32px;\n",
              "      padding: 0 0 0 0;\n",
              "      width: 32px;\n",
              "    }\n",
              "\n",
              "    .colab-df-convert:hover {\n",
              "      background-color: #E2EBFA;\n",
              "      box-shadow: 0px 1px 2px rgba(60, 64, 67, 0.3), 0px 1px 3px 1px rgba(60, 64, 67, 0.15);\n",
              "      fill: #174EA6;\n",
              "    }\n",
              "\n",
              "    .colab-df-buttons div {\n",
              "      margin-bottom: 4px;\n",
              "    }\n",
              "\n",
              "    [theme=dark] .colab-df-convert {\n",
              "      background-color: #3B4455;\n",
              "      fill: #D2E3FC;\n",
              "    }\n",
              "\n",
              "    [theme=dark] .colab-df-convert:hover {\n",
              "      background-color: #434B5C;\n",
              "      box-shadow: 0px 1px 3px 1px rgba(0, 0, 0, 0.15);\n",
              "      filter: drop-shadow(0px 1px 2px rgba(0, 0, 0, 0.3));\n",
              "      fill: #FFFFFF;\n",
              "    }\n",
              "  </style>\n",
              "\n",
              "    <script>\n",
              "      const buttonEl =\n",
              "        document.querySelector('#df-89c102d5-add2-4528-9c9e-714edc94de06 button.colab-df-convert');\n",
              "      buttonEl.style.display =\n",
              "        google.colab.kernel.accessAllowed ? 'block' : 'none';\n",
              "\n",
              "      async function convertToInteractive(key) {\n",
              "        const element = document.querySelector('#df-89c102d5-add2-4528-9c9e-714edc94de06');\n",
              "        const dataTable =\n",
              "          await google.colab.kernel.invokeFunction('convertToInteractive',\n",
              "                                                    [key], {});\n",
              "        if (!dataTable) return;\n",
              "\n",
              "        const docLinkHtml = 'Like what you see? Visit the ' +\n",
              "          '<a target=\"_blank\" href=https://colab.research.google.com/notebooks/data_table.ipynb>data table notebook</a>'\n",
              "          + ' to learn more about interactive tables.';\n",
              "        element.innerHTML = '';\n",
              "        dataTable['output_type'] = 'display_data';\n",
              "        await google.colab.output.renderOutput(dataTable, element);\n",
              "        const docLink = document.createElement('div');\n",
              "        docLink.innerHTML = docLinkHtml;\n",
              "        element.appendChild(docLink);\n",
              "      }\n",
              "    </script>\n",
              "  </div>\n",
              "\n",
              "\n",
              "<div id=\"df-89701380-5e2f-4b73-8407-f94a681872de\">\n",
              "  <button class=\"colab-df-quickchart\" onclick=\"quickchart('df-89701380-5e2f-4b73-8407-f94a681872de')\"\n",
              "            title=\"Suggest charts\"\n",
              "            style=\"display:none;\">\n",
              "\n",
              "<svg xmlns=\"http://www.w3.org/2000/svg\" height=\"24px\"viewBox=\"0 0 24 24\"\n",
              "     width=\"24px\">\n",
              "    <g>\n",
              "        <path d=\"M19 3H5c-1.1 0-2 .9-2 2v14c0 1.1.9 2 2 2h14c1.1 0 2-.9 2-2V5c0-1.1-.9-2-2-2zM9 17H7v-7h2v7zm4 0h-2V7h2v10zm4 0h-2v-4h2v4z\"/>\n",
              "    </g>\n",
              "</svg>\n",
              "  </button>\n",
              "\n",
              "<style>\n",
              "  .colab-df-quickchart {\n",
              "      --bg-color: #E8F0FE;\n",
              "      --fill-color: #1967D2;\n",
              "      --hover-bg-color: #E2EBFA;\n",
              "      --hover-fill-color: #174EA6;\n",
              "      --disabled-fill-color: #AAA;\n",
              "      --disabled-bg-color: #DDD;\n",
              "  }\n",
              "\n",
              "  [theme=dark] .colab-df-quickchart {\n",
              "      --bg-color: #3B4455;\n",
              "      --fill-color: #D2E3FC;\n",
              "      --hover-bg-color: #434B5C;\n",
              "      --hover-fill-color: #FFFFFF;\n",
              "      --disabled-bg-color: #3B4455;\n",
              "      --disabled-fill-color: #666;\n",
              "  }\n",
              "\n",
              "  .colab-df-quickchart {\n",
              "    background-color: var(--bg-color);\n",
              "    border: none;\n",
              "    border-radius: 50%;\n",
              "    cursor: pointer;\n",
              "    display: none;\n",
              "    fill: var(--fill-color);\n",
              "    height: 32px;\n",
              "    padding: 0;\n",
              "    width: 32px;\n",
              "  }\n",
              "\n",
              "  .colab-df-quickchart:hover {\n",
              "    background-color: var(--hover-bg-color);\n",
              "    box-shadow: 0 1px 2px rgba(60, 64, 67, 0.3), 0 1px 3px 1px rgba(60, 64, 67, 0.15);\n",
              "    fill: var(--button-hover-fill-color);\n",
              "  }\n",
              "\n",
              "  .colab-df-quickchart-complete:disabled,\n",
              "  .colab-df-quickchart-complete:disabled:hover {\n",
              "    background-color: var(--disabled-bg-color);\n",
              "    fill: var(--disabled-fill-color);\n",
              "    box-shadow: none;\n",
              "  }\n",
              "\n",
              "  .colab-df-spinner {\n",
              "    border: 2px solid var(--fill-color);\n",
              "    border-color: transparent;\n",
              "    border-bottom-color: var(--fill-color);\n",
              "    animation:\n",
              "      spin 1s steps(1) infinite;\n",
              "  }\n",
              "\n",
              "  @keyframes spin {\n",
              "    0% {\n",
              "      border-color: transparent;\n",
              "      border-bottom-color: var(--fill-color);\n",
              "      border-left-color: var(--fill-color);\n",
              "    }\n",
              "    20% {\n",
              "      border-color: transparent;\n",
              "      border-left-color: var(--fill-color);\n",
              "      border-top-color: var(--fill-color);\n",
              "    }\n",
              "    30% {\n",
              "      border-color: transparent;\n",
              "      border-left-color: var(--fill-color);\n",
              "      border-top-color: var(--fill-color);\n",
              "      border-right-color: var(--fill-color);\n",
              "    }\n",
              "    40% {\n",
              "      border-color: transparent;\n",
              "      border-right-color: var(--fill-color);\n",
              "      border-top-color: var(--fill-color);\n",
              "    }\n",
              "    60% {\n",
              "      border-color: transparent;\n",
              "      border-right-color: var(--fill-color);\n",
              "    }\n",
              "    80% {\n",
              "      border-color: transparent;\n",
              "      border-right-color: var(--fill-color);\n",
              "      border-bottom-color: var(--fill-color);\n",
              "    }\n",
              "    90% {\n",
              "      border-color: transparent;\n",
              "      border-bottom-color: var(--fill-color);\n",
              "    }\n",
              "  }\n",
              "</style>\n",
              "\n",
              "  <script>\n",
              "    async function quickchart(key) {\n",
              "      const quickchartButtonEl =\n",
              "        document.querySelector('#' + key + ' button');\n",
              "      quickchartButtonEl.disabled = true;  // To prevent multiple clicks.\n",
              "      quickchartButtonEl.classList.add('colab-df-spinner');\n",
              "      try {\n",
              "        const charts = await google.colab.kernel.invokeFunction(\n",
              "            'suggestCharts', [key], {});\n",
              "      } catch (error) {\n",
              "        console.error('Error during call to suggestCharts:', error);\n",
              "      }\n",
              "      quickchartButtonEl.classList.remove('colab-df-spinner');\n",
              "      quickchartButtonEl.classList.add('colab-df-quickchart-complete');\n",
              "    }\n",
              "    (() => {\n",
              "      let quickchartButtonEl =\n",
              "        document.querySelector('#df-89701380-5e2f-4b73-8407-f94a681872de button');\n",
              "      quickchartButtonEl.style.display =\n",
              "        google.colab.kernel.accessAllowed ? 'block' : 'none';\n",
              "    })();\n",
              "  </script>\n",
              "</div>\n",
              "\n",
              "  <div id=\"id_b7cd65ec-7d81-4f14-b987-9fd9804959ae\">\n",
              "    <style>\n",
              "      .colab-df-generate {\n",
              "        background-color: #E8F0FE;\n",
              "        border: none;\n",
              "        border-radius: 50%;\n",
              "        cursor: pointer;\n",
              "        display: none;\n",
              "        fill: #1967D2;\n",
              "        height: 32px;\n",
              "        padding: 0 0 0 0;\n",
              "        width: 32px;\n",
              "      }\n",
              "\n",
              "      .colab-df-generate:hover {\n",
              "        background-color: #E2EBFA;\n",
              "        box-shadow: 0px 1px 2px rgba(60, 64, 67, 0.3), 0px 1px 3px 1px rgba(60, 64, 67, 0.15);\n",
              "        fill: #174EA6;\n",
              "      }\n",
              "\n",
              "      [theme=dark] .colab-df-generate {\n",
              "        background-color: #3B4455;\n",
              "        fill: #D2E3FC;\n",
              "      }\n",
              "\n",
              "      [theme=dark] .colab-df-generate:hover {\n",
              "        background-color: #434B5C;\n",
              "        box-shadow: 0px 1px 3px 1px rgba(0, 0, 0, 0.15);\n",
              "        filter: drop-shadow(0px 1px 2px rgba(0, 0, 0, 0.3));\n",
              "        fill: #FFFFFF;\n",
              "      }\n",
              "    </style>\n",
              "    <button class=\"colab-df-generate\" onclick=\"generateWithVariable('controle_pareado')\"\n",
              "            title=\"Generate code using this dataframe.\"\n",
              "            style=\"display:none;\">\n",
              "\n",
              "  <svg xmlns=\"http://www.w3.org/2000/svg\" height=\"24px\"viewBox=\"0 0 24 24\"\n",
              "       width=\"24px\">\n",
              "    <path d=\"M7,19H8.4L18.45,9,17,7.55,7,17.6ZM5,21V16.75L18.45,3.32a2,2,0,0,1,2.83,0l1.4,1.43a1.91,1.91,0,0,1,.58,1.4,1.91,1.91,0,0,1-.58,1.4L9.25,21ZM18.45,9,17,7.55Zm-12,3A5.31,5.31,0,0,0,4.9,8.1,5.31,5.31,0,0,0,1,6.5,5.31,5.31,0,0,0,4.9,4.9,5.31,5.31,0,0,0,6.5,1,5.31,5.31,0,0,0,8.1,4.9,5.31,5.31,0,0,0,12,6.5,5.46,5.46,0,0,0,6.5,12Z\"/>\n",
              "  </svg>\n",
              "    </button>\n",
              "    <script>\n",
              "      (() => {\n",
              "      const buttonEl =\n",
              "        document.querySelector('#id_b7cd65ec-7d81-4f14-b987-9fd9804959ae button.colab-df-generate');\n",
              "      buttonEl.style.display =\n",
              "        google.colab.kernel.accessAllowed ? 'block' : 'none';\n",
              "\n",
              "      buttonEl.onclick = () => {\n",
              "        google.colab.notebook.generateWithVariable('controle_pareado');\n",
              "      }\n",
              "      })();\n",
              "    </script>\n",
              "  </div>\n",
              "\n",
              "    </div>\n",
              "  </div>\n"
            ],
            "application/vnd.google.colaboratory.intrinsic+json": {
              "type": "dataframe",
              "variable_name": "controle_pareado",
              "summary": "{\n  \"name\": \"controle_pareado\",\n  \"rows\": 45370,\n  \"fields\": [\n    {\n      \"column\": \"fase_dia\",\n      \"properties\": {\n        \"dtype\": \"number\",\n        \"std\": 0,\n        \"min\": 0,\n        \"max\": 2,\n        \"num_unique_values\": 3,\n        \"samples\": [\n          2,\n          1,\n          0\n        ],\n        \"semantic_type\": \"\",\n        \"description\": \"\"\n      }\n    },\n    {\n      \"column\": \"condicao_metereologica\",\n      \"properties\": {\n        \"dtype\": \"number\",\n        \"std\": 0,\n        \"min\": 0,\n        \"max\": 0,\n        \"num_unique_values\": 1,\n        \"samples\": [\n          0\n        ],\n        \"semantic_type\": \"\",\n        \"description\": \"\"\n      }\n    },\n    {\n      \"column\": \"tipo_pista\",\n      \"properties\": {\n        \"dtype\": \"number\",\n        \"std\": 0,\n        \"min\": 0,\n        \"max\": 0,\n        \"num_unique_values\": 1,\n        \"samples\": [\n          0\n        ],\n        \"semantic_type\": \"\",\n        \"description\": \"\"\n      }\n    },\n    {\n      \"column\": \"tracado_via\",\n      \"properties\": {\n        \"dtype\": \"number\",\n        \"std\": 0,\n        \"min\": 0,\n        \"max\": 1,\n        \"num_unique_values\": 2,\n        \"samples\": [\n          1\n        ],\n        \"semantic_type\": \"\",\n        \"description\": \"\"\n      }\n    },\n    {\n      \"column\": \"score_ilesos\",\n      \"properties\": {\n        \"dtype\": \"number\",\n        \"std\": 0.3870803405382135,\n        \"min\": 0.0,\n        \"max\": 1.0,\n        \"num_unique_values\": 4,\n        \"samples\": [\n          1.0\n        ],\n        \"semantic_type\": \"\",\n        \"description\": \"\"\n      }\n    },\n    {\n      \"column\": \"score_fatalidade\",\n      \"properties\": {\n        \"dtype\": \"number\",\n        \"std\": 0.05325244100961464,\n        \"min\": 0.0,\n        \"max\": 0.2,\n        \"num_unique_values\": 2,\n        \"samples\": [\n          0.2\n        ],\n        \"semantic_type\": \"\",\n        \"description\": \"\"\n      }\n    }\n  ]\n}"
            }
          },
          "metadata": {},
          "execution_count": 64
        }
      ]
    },
    {
      "cell_type": "code",
      "source": [
        "media_controle_pareado = controle_pareado.score_ilesos.mean()\n",
        "print(media_controle,media_intervencao)"
      ],
      "metadata": {
        "colab": {
          "base_uri": "https://localhost:8080/"
        },
        "id": "6qcRDnqZbG_i",
        "outputId": "09709d60-d348-4ca3-8ab1-0ab52a600514"
      },
      "execution_count": 77,
      "outputs": [
        {
          "output_type": "stream",
          "name": "stdout",
          "text": [
            "0.38385461500540713 0.3771807193250202\n"
          ]
        }
      ]
    },
    {
      "cell_type": "code",
      "source": [
        "ate_pareado = media_intervencao - media_controle_pareado\n",
        "print('ATE ',ate_pareado)"
      ],
      "metadata": {
        "colab": {
          "base_uri": "https://localhost:8080/"
        },
        "id": "9RiiEGXkbO73",
        "outputId": "c63b5dab-b32b-4c9b-dbb0-c0c6cdaa4863"
      },
      "execution_count": 78,
      "outputs": [
        {
          "output_type": "stream",
          "name": "stdout",
          "text": [
            "ATE  -0.15479856213850196\n"
          ]
        }
      ]
    }
  ]
}